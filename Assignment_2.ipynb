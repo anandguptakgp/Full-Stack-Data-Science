{
 "cells": [
  {
   "cell_type": "markdown",
   "id": "ea4283bd",
   "metadata": {},
   "source": [
    "# Python Basic Assignment 2"
   ]
  },
  {
   "cell_type": "markdown",
   "id": "05bdba87",
   "metadata": {},
   "source": [
    "### Q1.What are the two values of the Boolean data type? How do you write them?"
   ]
  },
  {
   "cell_type": "markdown",
   "id": "e796ca8c",
   "metadata": {},
   "source": [
    "Ans . True and False"
   ]
  },
  {
   "cell_type": "code",
   "execution_count": 3,
   "id": "a0004725",
   "metadata": {},
   "outputs": [
    {
     "data": {
      "text/plain": [
       "True"
      ]
     },
     "execution_count": 3,
     "metadata": {},
     "output_type": "execute_result"
    }
   ],
   "source": [
    "bool(12)"
   ]
  },
  {
   "cell_type": "code",
   "execution_count": 4,
   "id": "079e9852",
   "metadata": {},
   "outputs": [
    {
     "data": {
      "text/plain": [
       "True"
      ]
     },
     "execution_count": 4,
     "metadata": {},
     "output_type": "execute_result"
    }
   ],
   "source": [
    "bool('string')"
   ]
  },
  {
   "cell_type": "code",
   "execution_count": 6,
   "id": "5160abff",
   "metadata": {},
   "outputs": [
    {
     "data": {
      "text/plain": [
       "False"
      ]
     },
     "execution_count": 6,
     "metadata": {},
     "output_type": "execute_result"
    }
   ],
   "source": [
    "bool(False)\n"
   ]
  },
  {
   "cell_type": "code",
   "execution_count": 7,
   "id": "ae12d95e",
   "metadata": {},
   "outputs": [
    {
     "data": {
      "text/plain": [
       "False"
      ]
     },
     "execution_count": 7,
     "metadata": {},
     "output_type": "execute_result"
    }
   ],
   "source": [
    "bool(None)\n"
   ]
  },
  {
   "cell_type": "code",
   "execution_count": 8,
   "id": "885a8c8e",
   "metadata": {},
   "outputs": [
    {
     "data": {
      "text/plain": [
       "False"
      ]
     },
     "execution_count": 8,
     "metadata": {},
     "output_type": "execute_result"
    }
   ],
   "source": [
    "bool(0)"
   ]
  },
  {
   "cell_type": "markdown",
   "id": "0e1d6010",
   "metadata": {},
   "source": [
    "### 2. What are the three different types of Boolean operators?"
   ]
  },
  {
   "cell_type": "markdown",
   "id": "6f82d5d5",
   "metadata": {},
   "source": [
    "Ans . There are three different Boolean operators: AND, OR and NOT."
   ]
  },
  {
   "cell_type": "code",
   "execution_count": 10,
   "id": "6b8a4b03",
   "metadata": {},
   "outputs": [
    {
     "name": "stdout",
     "output_type": "stream",
     "text": [
      "True\n"
     ]
    }
   ],
   "source": [
    "a = 10\n",
    "b = 20\n",
    "c = 40\n",
    "\n",
    "if a > b or b < c:\n",
    "    print(True)\n",
    "else:\n",
    "    print(False)"
   ]
  },
  {
   "cell_type": "code",
   "execution_count": 14,
   "id": "3dcddea5",
   "metadata": {},
   "outputs": [
    {
     "data": {
      "text/plain": [
       "True"
      ]
     },
     "execution_count": 14,
     "metadata": {},
     "output_type": "execute_result"
    }
   ],
   "source": [
    "x =3\n",
    "x < 5 and  x < 10"
   ]
  },
  {
   "cell_type": "code",
   "execution_count": 15,
   "id": "47a0de7d",
   "metadata": {},
   "outputs": [
    {
     "data": {
      "text/plain": [
       "False"
      ]
     },
     "execution_count": 15,
     "metadata": {},
     "output_type": "execute_result"
    }
   ],
   "source": [
    "not(x < 5 and x < 10)"
   ]
  },
  {
   "cell_type": "markdown",
   "id": "8f485702",
   "metadata": {},
   "source": [
    "### 3. Make a list of each Boolean operator's truth tables (i.e. every possible combination of Boolean values for the operator and what it evaluate )."
   ]
  },
  {
   "cell_type": "code",
   "execution_count": 19,
   "id": "bf2f1d2e",
   "metadata": {},
   "outputs": [
    {
     "name": "stdout",
     "output_type": "stream",
     "text": [
      "True\n",
      "True\n",
      "True\n",
      "False\n"
     ]
    }
   ],
   "source": [
    "#OR\n",
    "print(True or True)\n",
    "print(True or False)\n",
    "print(False or True)\n",
    "print(False or False)"
   ]
  },
  {
   "cell_type": "code",
   "execution_count": 20,
   "id": "81a9deb3",
   "metadata": {},
   "outputs": [
    {
     "name": "stdout",
     "output_type": "stream",
     "text": [
      "True\n",
      "False\n",
      "False\n",
      "False\n"
     ]
    }
   ],
   "source": [
    "#And\n",
    "print(True and True)\n",
    "print(True and False)\n",
    "print(False and True)\n",
    "print(False and False)"
   ]
  },
  {
   "cell_type": "code",
   "execution_count": 21,
   "id": "0bdd45cf",
   "metadata": {},
   "outputs": [
    {
     "name": "stdout",
     "output_type": "stream",
     "text": [
      "False\n",
      "True\n",
      "False\n"
     ]
    }
   ],
   "source": [
    "#NOT\n",
    "print(not(True))\n",
    "print(not(False))\n",
    "print(not(False or True))\n"
   ]
  },
  {
   "cell_type": "markdown",
   "id": "2ace4df6",
   "metadata": {},
   "source": [
    "### 4. What are the values of the following expressions?"
   ]
  },
  {
   "cell_type": "code",
   "execution_count": 22,
   "id": "1b1dd57d",
   "metadata": {},
   "outputs": [
    {
     "name": "stdout",
     "output_type": "stream",
     "text": [
      "False\n",
      "False\n",
      "True\n",
      "False\n",
      "False\n",
      "True\n"
     ]
    }
   ],
   "source": [
    "print((5 > 4) and (3 == 5))                   #False\n",
    "print(not (5 > 4))                            #False\n",
    "print((5 > 4) or (3 == 5))                    #True\n",
    "print(not ((5 > 4) or (3 == 5)))              #False\n",
    "print((True and True) and (True == False))    #False\n",
    "print((not False) or (not True))              #True\n"
   ]
  },
  {
   "cell_type": "markdown",
   "id": "7d7abe12",
   "metadata": {},
   "source": [
    "### 5. What are the six comparison operators?"
   ]
  },
  {
   "cell_type": "raw",
   "id": "23a100a7",
   "metadata": {},
   "source": [
    "Python Comparison Operators\n",
    "== \tEqual \t \t\n",
    "!= \tNot equal \t \t\n",
    "> \tGreater than \t \t\n",
    "< \tLess than \t \t\n",
    ">= \tGreater than or equal to \t \t\n",
    "<= \tLess than or equal to \t"
   ]
  },
  {
   "cell_type": "code",
   "execution_count": 23,
   "id": "60b828e6",
   "metadata": {},
   "outputs": [
    {
     "name": "stdout",
     "output_type": "stream",
     "text": [
      "False\n",
      "False\n",
      "True\n",
      "False\n",
      "True\n",
      "True\n"
     ]
    }
   ],
   "source": [
    "a = 10 \n",
    "b = 20\n",
    "c = 30\n",
    "d = 40\n",
    "\n",
    "print(a==b)\n",
    "print(a != 10)\n",
    "print( b > a)\n",
    "print (b < c and b < a)\n",
    "print (b >= 20)\n",
    "print (b <= d)"
   ]
  },
  {
   "cell_type": "markdown",
   "id": "5cb9a969",
   "metadata": {},
   "source": [
    "### 6. How do you tell the difference between the equal to and assignment operators?Describe a condition and when you would use one."
   ]
  },
  {
   "cell_type": "markdown",
   "id": "041359ab",
   "metadata": {},
   "source": [
    "Equal to '==' #when we need to compare \\\n",
    "Assignment operators #when we assign some value like a = 5"
   ]
  },
  {
   "cell_type": "code",
   "execution_count": 24,
   "id": "8c429399",
   "metadata": {
    "scrolled": true
   },
   "outputs": [
    {
     "name": "stdout",
     "output_type": "stream",
     "text": [
      "True\n"
     ]
    }
   ],
   "source": [
    "a = 10 #assignment operators\n",
    "print(a  == 10 ) #comparison operators , this will return value as true or False "
   ]
  },
  {
   "cell_type": "markdown",
   "id": "1a64a4ca",
   "metadata": {},
   "source": [
    "###  7. Identify the three blocks in this code:"
   ]
  },
  {
   "cell_type": "code",
   "execution_count": 25,
   "id": "2e56e657",
   "metadata": {},
   "outputs": [
    {
     "name": "stdout",
     "output_type": "stream",
     "text": [
      "spam\n"
     ]
    }
   ],
   "source": [
    "spam = 0                   #block1\n",
    "if spam == 10:             #block1        \n",
    "    print('eggs')                 \n",
    "    if spam > 5:                  #block2\n",
    "        print('bacon')                   #block3   \n",
    "    else:                         #block2 \n",
    "        print('ham')                     #block3    \n",
    "    print('spam')                 #block2\n",
    "print('spam')              #block1"
   ]
  },
  {
   "cell_type": "code",
   "execution_count": null,
   "id": "63641c7e",
   "metadata": {},
   "outputs": [],
   "source": []
  }
 ],
 "metadata": {
  "kernelspec": {
   "display_name": "Python 3 (ipykernel)",
   "language": "python",
   "name": "python3"
  },
  "language_info": {
   "codemirror_mode": {
    "name": "ipython",
    "version": 3
   },
   "file_extension": ".py",
   "mimetype": "text/x-python",
   "name": "python",
   "nbconvert_exporter": "python",
   "pygments_lexer": "ipython3",
   "version": "3.9.7"
  }
 },
 "nbformat": 4,
 "nbformat_minor": 5
}
