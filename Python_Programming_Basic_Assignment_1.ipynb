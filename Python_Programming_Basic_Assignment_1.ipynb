{
 "cells": [
  {
   "cell_type": "markdown",
   "id": "6076249e",
   "metadata": {},
   "source": [
    "# Python Programming Basic Assignment 1 "
   ]
  },
  {
   "cell_type": "markdown",
   "id": "d46dbe47",
   "metadata": {},
   "source": [
    "### 1.\tWrite a Python program to print \"Hello Python\"?\n"
   ]
  },
  {
   "cell_type": "code",
   "execution_count": 1,
   "id": "74c19e2d",
   "metadata": {},
   "outputs": [
    {
     "name": "stdout",
     "output_type": "stream",
     "text": [
      "Hello Python\n"
     ]
    }
   ],
   "source": [
    "print(\"Hello Python\")"
   ]
  },
  {
   "cell_type": "markdown",
   "id": "2bb49931",
   "metadata": {},
   "source": [
    "### 2.\tWrite a Python program to do arithmetical operations addition and division.?\n"
   ]
  },
  {
   "cell_type": "code",
   "execution_count": 3,
   "id": "ccb6c821",
   "metadata": {},
   "outputs": [
    {
     "name": "stdout",
     "output_type": "stream",
     "text": [
      "Addition of a and b is : 30\n",
      "division of b by a : 2.0\n"
     ]
    }
   ],
   "source": [
    "a=10\n",
    "b=20\n",
    "print(\"Addition of a and b is :\", a+b)\n",
    "print(\"division of b by a :\", b/a)"
   ]
  },
  {
   "cell_type": "markdown",
   "id": "7d4e25c2",
   "metadata": {},
   "source": [
    "### 3.\tWrite a Python program to find the area of a triangle?\n",
    "\n"
   ]
  },
  {
   "cell_type": "code",
   "execution_count": 9,
   "id": "99b5c51b",
   "metadata": {},
   "outputs": [
    {
     "name": "stdout",
     "output_type": "stream",
     "text": [
      "10\n",
      "5\n",
      "Area of Triangle of base as 10 and height as 5 is  25.0\n"
     ]
    }
   ],
   "source": [
    "#Area of triangle = 0.5*base*height\n",
    "base = int(input())\n",
    "height = int(input())\n",
    "print(\"Area of Triangle of base as {} and height as {} is \".format(base,height), 0.5*base*height)  "
   ]
  },
  {
   "cell_type": "markdown",
   "id": "a9162aec",
   "metadata": {},
   "source": [
    "### 4.\tWrite a Python program to swap two variables?\n"
   ]
  },
  {
   "cell_type": "code",
   "execution_count": 10,
   "id": "694f5e37",
   "metadata": {},
   "outputs": [
    {
     "name": "stdout",
     "output_type": "stream",
     "text": [
      "The swap value of a is  20\n",
      "The swap value of b is  10\n"
     ]
    }
   ],
   "source": [
    "a = 10\n",
    "b = 20\n",
    "a, b = b, a\n",
    "print (\"The swap value of a is \", a)\n",
    "print (\"The swap value of b is \", b)"
   ]
  },
  {
   "cell_type": "markdown",
   "id": "f82058e9",
   "metadata": {},
   "source": [
    "### 5.\tWrite a Python program to generate a random number?"
   ]
  },
  {
   "cell_type": "code",
   "execution_count": 16,
   "id": "d054d761",
   "metadata": {},
   "outputs": [
    {
     "name": "stdout",
     "output_type": "stream",
     "text": [
      "0.9527897758437734\n"
     ]
    }
   ],
   "source": [
    "n = random.random()\n",
    "print(n)"
   ]
  }
 ],
 "metadata": {
  "kernelspec": {
   "display_name": "Python 3 (ipykernel)",
   "language": "python",
   "name": "python3"
  },
  "language_info": {
   "codemirror_mode": {
    "name": "ipython",
    "version": 3
   },
   "file_extension": ".py",
   "mimetype": "text/x-python",
   "name": "python",
   "nbconvert_exporter": "python",
   "pygments_lexer": "ipython3",
   "version": "3.9.7"
  }
 },
 "nbformat": 4,
 "nbformat_minor": 5
}
