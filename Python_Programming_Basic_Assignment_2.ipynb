{
 "cells": [
  {
   "cell_type": "markdown",
   "id": "d4c61077",
   "metadata": {},
   "source": [
    "# Python_Programming_Basic_Assignment_2"
   ]
  },
  {
   "cell_type": "markdown",
   "id": "7a6a5b08",
   "metadata": {},
   "source": [
    "### 1.\tWrite a Python program to convert kilometers to miles?\n",
    "\n"
   ]
  },
  {
   "cell_type": "code",
   "execution_count": 3,
   "id": "fe776e8d",
   "metadata": {},
   "outputs": [
    {
     "name": "stdout",
     "output_type": "stream",
     "text": [
      "Enter the distance in KM :10\n",
      "10 km is equal to 6.2137119 miles \n"
     ]
    }
   ],
   "source": [
    "#1 km = 0.62137119 miles\n",
    "KM = int(input(\"Enter the distance in KM :\"))\n",
    "miles = 0.62137119*KM\n",
    "print(\"{} km is equal to {} miles \". format(KM,miles))"
   ]
  },
  {
   "cell_type": "markdown",
   "id": "e18d32d3",
   "metadata": {},
   "source": [
    "### 2.\tWrite a Python program to convert Celsius to Fahrenheit?\n"
   ]
  },
  {
   "cell_type": "code",
   "execution_count": 5,
   "id": "19939b39",
   "metadata": {},
   "outputs": [
    {
     "name": "stdout",
     "output_type": "stream",
     "text": [
      "Enter the temp in Celsius -20\n",
      "The value of Celsius degree in Fahrenheit is  36.0\n",
      "The value of Celsius degree in Kelvin is  293.15\n"
     ]
    }
   ],
   "source": [
    "c = float(input('Enter the temp in Celsius -'))\n",
    "f = (9/5)*c\n",
    "k = 273.15 + c\n",
    "print('The value of Celsius degree in Fahrenheit is ', f)\n",
    "print('The value of Celsius degree in Kelvin is ', k)"
   ]
  },
  {
   "cell_type": "markdown",
   "id": "cc7fc750",
   "metadata": {},
   "source": [
    "### 3.\tWrite a Python program to display calendar?\n",
    "\n"
   ]
  },
  {
   "cell_type": "code",
   "execution_count": 6,
   "id": "b986a5b5",
   "metadata": {},
   "outputs": [
    {
     "name": "stdout",
     "output_type": "stream",
     "text": [
      "Enter year: 2022\n",
      "Enter month: 9\n",
      "   September 2022\n",
      "Mo Tu We Th Fr Sa Su\n",
      "          1  2  3  4\n",
      " 5  6  7  8  9 10 11\n",
      "12 13 14 15 16 17 18\n",
      "19 20 21 22 23 24 25\n",
      "26 27 28 29 30\n",
      "\n"
     ]
    }
   ],
   "source": [
    "import calendar \n",
    "yy = int(input(\"Enter year: \"))\n",
    "mm = int(input(\"Enter month: \"))\n",
    "\n",
    "print(calendar.month(yy, mm))"
   ]
  },
  {
   "cell_type": "markdown",
   "id": "29d89d5f",
   "metadata": {},
   "source": [
    "### 4.\tWrite a Python program to solve quadratic equation?\n"
   ]
  },
  {
   "cell_type": "code",
   "execution_count": 17,
   "id": "eab6a0fc",
   "metadata": {},
   "outputs": [
    {
     "name": "stdout",
     "output_type": "stream",
     "text": [
      "Enter the value of a :2\n",
      "Enter the value of b :3\n",
      "Enter the value of c :1\n",
      "Two solutions of Quadratic equations are -0.5 and -1.0\n"
     ]
    }
   ],
   "source": [
    "#Q = a.x^2 + b.x + c \n",
    "import math\n",
    "a = int(input(\"Enter the value of a :\"))\n",
    "b = int(input(\"Enter the value of b :\"))\n",
    "c = int(input(\"Enter the value of c :\"))\n",
    "\n",
    "#calculate the d , discriminant\n",
    "d = b**2 - 4*a*c\n",
    "\n",
    "#two Solutions\n",
    "Sol1= (-b + (math.sqrt(d)))/(2*a)\n",
    "Sol2= (-b - (math.sqrt(d)))/(2*a)\n",
    "print ('Two solutions of Quadratic equations are {0} and {1}'.format(Sol1,Sol2))\n"
   ]
  },
  {
   "cell_type": "markdown",
   "id": "0002e231",
   "metadata": {},
   "source": [
    "### 5.\tWrite a Python program to swap two variables without temp variable?"
   ]
  },
  {
   "cell_type": "code",
   "execution_count": 18,
   "id": "3f94bb38",
   "metadata": {},
   "outputs": [
    {
     "name": "stdout",
     "output_type": "stream",
     "text": [
      "The swap value of a is  20\n",
      "The swap value of b is  10\n"
     ]
    }
   ],
   "source": [
    "a = 10\n",
    "b = 20\n",
    "a, b = b, a\n",
    "print (\"The swap value of a is \", a)\n",
    "print (\"The swap value of b is \", b)"
   ]
  },
  {
   "cell_type": "code",
   "execution_count": null,
   "id": "af40eb3a",
   "metadata": {},
   "outputs": [],
   "source": []
  }
 ],
 "metadata": {
  "kernelspec": {
   "display_name": "Python 3 (ipykernel)",
   "language": "python",
   "name": "python3"
  },
  "language_info": {
   "codemirror_mode": {
    "name": "ipython",
    "version": 3
   },
   "file_extension": ".py",
   "mimetype": "text/x-python",
   "name": "python",
   "nbconvert_exporter": "python",
   "pygments_lexer": "ipython3",
   "version": "3.9.7"
  }
 },
 "nbformat": 4,
 "nbformat_minor": 5
}
